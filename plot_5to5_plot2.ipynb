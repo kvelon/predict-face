{
 "cells": [
  {
   "cell_type": "code",
   "execution_count": 1,
   "metadata": {},
   "outputs": [],
   "source": [
    "import pytorch_lightning as pl\n",
    "from models import *\n",
    "from data.data_classes import *"
   ]
  },
  {
   "cell_type": "code",
   "execution_count": 2,
   "metadata": {},
   "outputs": [],
   "source": [
    "save_filepath = \"./plots/live_plot2.pdf\""
   ]
  },
  {
   "cell_type": "code",
   "execution_count": 3,
   "metadata": {},
   "outputs": [],
   "source": [
    "batch_size = 8\n",
    "\n",
    "data_path = \"data/harness/combined.npy\"\n",
    "num_ctx_frames = 5\n",
    "num_tgt_frames = 5\n",
    "split_ratio=[0, 1.0, 0.0]\n",
    "\n",
    "liveness_datamodule = LivenessDataModule(batch_size, \n",
    "                                         num_ctx_frames, num_tgt_frames,\n",
    "                                         data_path,\n",
    "                                         split_ratio=split_ratio)\n",
    "\n",
    "liveness_datamodule.setup()\n",
    "\n",
    "val_dl = liveness_datamodule.val_dataloader()\n",
    "val_ctx_frames, val_tgt_frames = next(iter(val_dl))                                            "
   ]
  },
  {
   "cell_type": "markdown",
   "metadata": {},
   "source": [
    "### SimVP"
   ]
  },
  {
   "cell_type": "code",
   "execution_count": 4,
   "metadata": {},
   "outputs": [],
   "source": [
    "# # Experiment 1 (filtered and augmented)\n",
    "# hid_s=64\n",
    "# hid_t=256\n",
    "# N_s=4\n",
    "# N_t=8\n",
    "# kernel_sizes=[3,5,7,11]\n",
    "# groups=4\n",
    "\n",
    "# channels = 3\n",
    "# height = 280\n",
    "# width = 160\n",
    "# input_shape = (channels, num_ctx_frames, height, width)\n",
    "\n",
    "# model = SimVP(input_shape=input_shape, \n",
    "#               hid_s=hid_s, hid_t=hid_t, \n",
    "#               N_s=N_s, N_t=N_t,\n",
    "#               kernel_sizes=kernel_sizes, \n",
    "#               groups=groups)\n",
    "# model = model.load_from_checkpoint(\"./logs/SimVP/experiment1/checkpoints/epoch=99-step=2000.ckpt\")              \n",
    "            \n",
    "# # Experiment 2 (unfiltered)\n",
    "# model = SimVP(input_shape=input_shape, \n",
    "#               hid_s=hid_s, hid_t=hid_t, \n",
    "#               N_s=N_s, N_t=N_t,\n",
    "#               kernel_sizes=kernel_sizes, \n",
    "#               groups=groups)\n",
    "# model = model.load_from_checkpoint(\"./logs/SimVP/experiment2/checkpoints/epoch=99-step=2000.ckpt\")  \n",
    "\n",
    "# # Experiment 3 (filtered)\n",
    "# model = SimVP(input_shape=input_shape, \n",
    "#               hid_s=hid_s, hid_t=hid_t, \n",
    "#               N_s=N_s, N_t=N_t,\n",
    "#               kernel_sizes=kernel_sizes, \n",
    "#               groups=groups)\n",
    "# model = model.load_from_checkpoint(\"./logs/SimVP/experiment3/checkpoints/epoch=99-step=500.ckpt\")"
   ]
  },
  {
   "cell_type": "markdown",
   "metadata": {},
   "source": [
    "### PredRNN"
   ]
  },
  {
   "cell_type": "code",
   "execution_count": null,
   "metadata": {},
   "outputs": [],
   "source": []
  },
  {
   "cell_type": "markdown",
   "metadata": {},
   "source": [
    "### Predicted Frames Set 1"
   ]
  },
  {
   "cell_type": "code",
   "execution_count": 5,
   "metadata": {},
   "outputs": [],
   "source": [
    "# # Experiment 2 (unfiltered)\n",
    "# hid_s=64\n",
    "# hid_t=256\n",
    "# N_s=4\n",
    "# N_t=8\n",
    "# kernel_sizes=[3,5,7,11]\n",
    "# groups=4\n",
    "\n",
    "# channels = 3\n",
    "# height = 280\n",
    "# width = 160\n",
    "# input_shape = (channels, num_ctx_frames, height, width)\n",
    "\n",
    "# model = SimVP(input_shape=input_shape, \n",
    "#               hid_s=hid_s, hid_t=hid_t, \n",
    "#               N_s=N_s, N_t=N_t,\n",
    "#               kernel_sizes=kernel_sizes, \n",
    "#               groups=groups)\n",
    "# model = model.load_from_checkpoint(\"./logs/SimVP/experiment2/checkpoints/epoch=99-step=2000.ckpt\")  "
   ]
  },
  {
   "cell_type": "code",
   "execution_count": 6,
   "metadata": {},
   "outputs": [],
   "source": [
    "# model.eval()\n",
    "# model1_pred_frames = model(val_ctx_frames)\n",
    "\n",
    "# torch.save(model1_pred_frames, \"./plots/5-5-simvp-uf\")\n",
    "# model1_pred_frames.shape"
   ]
  },
  {
   "cell_type": "code",
   "execution_count": 7,
   "metadata": {},
   "outputs": [],
   "source": [
    "model1_pred_frames = torch.load(\"./plots/5-5-simvp-uf.pt\")"
   ]
  },
  {
   "cell_type": "markdown",
   "metadata": {},
   "source": [
    "### Predicted Frames Set 2"
   ]
  },
  {
   "cell_type": "code",
   "execution_count": 8,
   "metadata": {},
   "outputs": [],
   "source": [
    "# # Experiment 3 (filtered)\n",
    "# hid_s=64\n",
    "# hid_t=256\n",
    "# N_s=4\n",
    "# N_t=8\n",
    "# kernel_sizes=[3,5,7,11]\n",
    "# groups=4\n",
    "\n",
    "# channels = 3\n",
    "# height = 280\n",
    "# width = 160\n",
    "# input_shape = (channels, num_ctx_frames, height, width)\n",
    "\n",
    "# model = SimVP(input_shape=input_shape, \n",
    "#               hid_s=hid_s, hid_t=hid_t, \n",
    "#               N_s=N_s, N_t=N_t,\n",
    "#               kernel_sizes=kernel_sizes, \n",
    "#               groups=groups)\n",
    "# model = model.load_from_checkpoint(\"./logs/SimVP/experiment3/checkpoints/epoch=99-step=500.ckpt\")"
   ]
  },
  {
   "cell_type": "code",
   "execution_count": 9,
   "metadata": {},
   "outputs": [],
   "source": [
    "# model.eval()\n",
    "# model2_pred_frames = model(val_ctx_frames)\n",
    "# torch.save(model2_pred_frames, \"./plots/5-5-simvp-ft.pt\")\n",
    "# model2_pred_frames.shape"
   ]
  },
  {
   "cell_type": "code",
   "execution_count": 10,
   "metadata": {},
   "outputs": [
    {
     "data": {
      "text/plain": [
       "torch.Size([8, 3, 5, 280, 160])"
      ]
     },
     "execution_count": 10,
     "metadata": {},
     "output_type": "execute_result"
    }
   ],
   "source": [
    "model2_pred_frames = torch.load(\"./plots/5-5-simvp-ft.pt\")\n",
    "model2_pred_frames.shape"
   ]
  },
  {
   "cell_type": "code",
   "execution_count": null,
   "metadata": {},
   "outputs": [],
   "source": []
  },
  {
   "cell_type": "markdown",
   "metadata": {},
   "source": [
    "### Predicted Frames Set 3"
   ]
  },
  {
   "cell_type": "code",
   "execution_count": 11,
   "metadata": {},
   "outputs": [],
   "source": [
    "# # Experiment 1 (filtered and augmented)\n",
    "# model = SimVP(input_shape=input_shape, \n",
    "#               hid_s=hid_s, hid_t=hid_t, \n",
    "#               N_s=N_s, N_t=N_t,\n",
    "#               kernel_sizes=kernel_sizes, \n",
    "#               groups=groups)\n",
    "# model = model.load_from_checkpoint(\"./logs/SimVP/experiment1/checkpoints/epoch=99-step=2000.ckpt\")   "
   ]
  },
  {
   "cell_type": "code",
   "execution_count": 12,
   "metadata": {},
   "outputs": [],
   "source": [
    "# model.eval()\n",
    "# model3_pred_frames = model(val_ctx_frames)\n",
    "\n",
    "# torch.save(model3_pred_frames, \"./plots/5-5-simvp-fa\")\n",
    "# model3_pred_frames.shape"
   ]
  },
  {
   "cell_type": "code",
   "execution_count": 13,
   "metadata": {},
   "outputs": [],
   "source": [
    "model3_pred_frames = torch.load(\"./plots/5-5-simvp-fa.pt\")"
   ]
  },
  {
   "cell_type": "markdown",
   "metadata": {},
   "source": [
    "### Plot figure"
   ]
  },
  {
   "cell_type": "code",
   "execution_count": 14,
   "metadata": {},
   "outputs": [],
   "source": [
    "def make_thesis_plot(frame_sets, names, plot_width, plot_height):\n",
    "\n",
    "    def show_frames(frames, ax, row_label=None):\n",
    "        start_id = 1 if row_label == \"Context\" else 6\n",
    "        for i, frame in enumerate(frames):\n",
    "            ax[i].imshow(frame)\n",
    "            ax[i].set_xticks([])\n",
    "            ax[i].set_yticks([])\n",
    "            ax[i].set_xlabel(f\"t={start_id+i}\")\n",
    "            ax[i].xaxis.set_label_coords(.52, 1.15)\n",
    "\n",
    "        if row_label is not None:\n",
    "            ax[0].set_ylabel(row_label, wrap=True)\n",
    "\n",
    "    fig, ax = plt.subplots(len(frame_sets), 5,\n",
    "                               figsize = (plot_width, plot_height))\n",
    "\n",
    "    for i, frames in enumerate(frame_sets):\n",
    "        frames = frames.squeeze().permute(1, 2, 3, 0).cpu().detach().numpy()\n",
    "        show_frames(frames, ax[i], names[i])\n",
    "    fig.set_facecolor(\"white\")\n",
    "    plt.savefig(save_filepath)\n",
    "    return fig"
   ]
  },
  {
   "cell_type": "code",
   "execution_count": null,
   "metadata": {},
   "outputs": [],
   "source": [
    "index = 1\n",
    "plot_width = 6\n",
    "plot_height = 6\n",
    "frame_sets = [model1_pred_frames[index],\n",
    "              model2_pred_frames[index],\n",
    "              model3_pred_frames[index]]\n",
    "\n",
    "names = [\"SimVP-\\nUnfiltered\", \n",
    "         \"SimVP-\\nFiltered\", \"SimVP-\\nFiltered and Augmented\"]               \n",
    "make_thesis_plot(frame_sets, names, plot_width, plot_height)"
   ]
  }
 ],
 "metadata": {
  "kernelspec": {
   "display_name": "Python 3.10.5 ('pytorch')",
   "language": "python",
   "name": "python3"
  },
  "language_info": {
   "codemirror_mode": {
    "name": "ipython",
    "version": 3
   },
   "file_extension": ".py",
   "mimetype": "text/x-python",
   "name": "python",
   "nbconvert_exporter": "python",
   "pygments_lexer": "ipython3",
   "version": "3.10.5"
  },
  "orig_nbformat": 4,
  "vscode": {
   "interpreter": {
    "hash": "da4c3a4107fc661dfc1ddc51b98664f856b9baf685ab1745d9fa2472938977d8"
   }
  }
 },
 "nbformat": 4,
 "nbformat_minor": 2
}
