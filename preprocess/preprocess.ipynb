{
 "cells": [
  {
   "cell_type": "markdown",
   "metadata": {},
   "source": [
    "# Process raw data and save as numpy array"
   ]
  },
  {
   "cell_type": "code",
   "execution_count": 4,
   "metadata": {},
   "outputs": [],
   "source": [
    "import numpy as np\n",
    "from pathlib import Path\n",
    "\n",
    "from preprocess_utils import *"
   ]
  },
  {
   "cell_type": "code",
   "execution_count": 5,
   "metadata": {},
   "outputs": [],
   "source": [
    "###################################\n",
    "#### CHANGE BEFORE RUNNING ########\n",
    "###################################\n",
    "data_path = Path(\"../data/harness/\")"
   ]
  },
  {
   "cell_type": "markdown",
   "metadata": {},
   "source": [
    "## Option A: No reordering"
   ]
  },
  {
   "cell_type": "code",
   "execution_count": 6,
   "metadata": {},
   "outputs": [
    {
     "name": "stdout",
     "output_type": "stream",
     "text": [
      "../data/harness/videos/81d25043a83e92eea1b4f817b5584548ce460e5801d5548279c228621801vl01.npz\n",
      "(10, 280, 160, 3)\n",
      "../data/harness/videos/7f3acafb0c12256456b39370d607536e2ae2631fa146cdca3e753c061801vl01.npz\n",
      "(10, 280, 160, 3)\n",
      "../data/harness/videos/d90fd1a5ef8f5981ddfe1b0cb96b3ea74b0005ecaf3be560da4faeda1801vl01.npz\n",
      "(10, 280, 160, 3)\n",
      "../data/harness/videos/e59c8a88d2fb914555dd11f39f1455d4105b7a05d2fd5d55f8c45f231801vl01.npz\n",
      "(10, 280, 160, 3)\n",
      "../data/harness/videos/13b33dc12cc9de338ef301e9a54f36e127f2832d126dc313f5f244221801vl01.npz\n",
      "(10, 280, 160, 3)\n",
      "../data/harness/videos/64acdaaf1ff2d66e6ad0e7f16a2e7a0ec7ca972b3f7f0fd7a12f67821801vl01.npz\n",
      "(10, 280, 160, 3)\n",
      "../data/harness/videos/33fcab33d62b1e6bfabbcf75ed1a1d766428e5c901ae4455dc6449d21801vl01.npz\n",
      "(10, 280, 160, 3)\n",
      "../data/harness/videos/b4b5e0eca901f8197181cb339716b0b8e41cfc67ceb8d70b07faa4f01801vl01.npz\n",
      "(10, 280, 160, 3)\n"
     ]
    },
    {
     "data": {
      "text/plain": [
       "(8, 10, 280, 160, 3)"
      ]
     },
     "execution_count": 6,
     "metadata": {},
     "output_type": "execute_result"
    }
   ],
   "source": [
    "combined = videos_to_np(data_path, save_filename=\"combined\")\n",
    "combined.shape"
   ]
  },
  {
   "cell_type": "code",
   "execution_count": null,
   "metadata": {},
   "outputs": [],
   "source": []
  },
  {
   "cell_type": "markdown",
   "metadata": {},
   "source": [
    "## Option B: Reorder according to increasing area"
   ]
  },
  {
   "cell_type": "code",
   "execution_count": null,
   "metadata": {},
   "outputs": [],
   "source": [
    "reorder_fn = lambda bboxes: reorder_by_area(bboxes, increasing=True)"
   ]
  },
  {
   "cell_type": "code",
   "execution_count": null,
   "metadata": {},
   "outputs": [],
   "source": [
    "combined_increasing = videos_to_np(data_path, reorder_fn, \"combined_increasing\")\n",
    "combined_increasing.shape"
   ]
  },
  {
   "cell_type": "markdown",
   "metadata": {},
   "source": [
    "## Option C: Reorder according to decreasing area"
   ]
  },
  {
   "cell_type": "code",
   "execution_count": null,
   "metadata": {},
   "outputs": [],
   "source": [
    "reorder_fn = lambda bboxes: reorder_by_area(bboxes, increasing=False)"
   ]
  },
  {
   "cell_type": "code",
   "execution_count": null,
   "metadata": {},
   "outputs": [],
   "source": [
    "combined_decreasing = videos_to_np(data_path, reorder_fn, \"combined_decreasing\")\n",
    "combined_decreasing.shape"
   ]
  },
  {
   "cell_type": "markdown",
   "metadata": {},
   "source": []
  }
 ],
 "metadata": {
  "kernelspec": {
   "display_name": "Python 3.10.5 ('pytorch')",
   "language": "python",
   "name": "python3"
  },
  "language_info": {
   "codemirror_mode": {
    "name": "ipython",
    "version": 3
   },
   "file_extension": ".py",
   "mimetype": "text/x-python",
   "name": "python",
   "nbconvert_exporter": "python",
   "pygments_lexer": "ipython3",
   "version": "3.10.5"
  },
  "orig_nbformat": 4,
  "vscode": {
   "interpreter": {
    "hash": "da4c3a4107fc661dfc1ddc51b98664f856b9baf685ab1745d9fa2472938977d8"
   }
  }
 },
 "nbformat": 4,
 "nbformat_minor": 2
}
